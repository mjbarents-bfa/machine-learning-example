{
  "nbformat": 4,
  "nbformat_minor": 0,
  "metadata": {
    "colab": {
      "provenance": [],
      "authorship_tag": "ABX9TyOjB2XQPgE4Ow8IRktuO+Cu",
      "include_colab_link": true
    },
    "kernelspec": {
      "name": "python3",
      "display_name": "Python 3"
    },
    "language_info": {
      "name": "python"
    }
  },
  "cells": [
    {
      "cell_type": "markdown",
      "metadata": {
        "id": "view-in-github",
        "colab_type": "text"
      },
      "source": [
        "<a href=\"https://colab.research.google.com/github/mjbarents-bfa/machine-learning-example/blob/main/customer_example.ipynb\" target=\"_parent\"><img src=\"https://colab.research.google.com/assets/colab-badge.svg\" alt=\"Open In Colab\"/></a>"
      ]
    },
    {
      "cell_type": "markdown",
      "source": [
        "# **Machine Learning voorbeeld**\n",
        "In dit voorbeeld gaan we gebruik maken van een '**Ramdom Forrest Classifier**' en data vanuit een **klantenbestand**.\n",
        "\n",
        "\n",
        "> Een random forest classifier is een machine learning-algoritme dat wordt gebruikt voor classificatietaken. Het maakt meerdere beslisbomen met willekeurige data en eigenschappen. Dan combineert het de uitkomsten van deze bomen voor een betere voorspelling.\n",
        "\n",
        "Het algoritme gaat patronen proberen te leren uit het klantenbestand, om zo voorspellingen te kunnen maken over nieuwe klanten.\n",
        "\n",
        "\n",
        "\n",
        "\n"
      ],
      "metadata": {
        "id": "P5dcG7xEmvjc"
      }
    },
    {
      "cell_type": "markdown",
      "source": [
        "### **Stap 1**\n",
        "Laten we aan de slag gaan, eerst moeten we wat modules importeren die we later nodig zullen hebben. Druk hiervoor op het 'uitvoeren' knopje linksboven in het vakje hieronder."
      ],
      "metadata": {
        "id": "bG1_ewuqxpq2"
      }
    },
    {
      "cell_type": "code",
      "execution_count": null,
      "metadata": {
        "id": "a-tP2F_F_pe1"
      },
      "outputs": [],
      "source": [
        "import pandas as pd\n",
        "from sklearn.ensemble import RandomForestClassifier\n",
        "from sklearn.metrics import accuracy_score"
      ]
    },
    {
      "cell_type": "markdown",
      "source": [
        "### **Stap 2**\n",
        "\n",
        "Top! Dan gaan we nu de data inladen, in dit geval een klantenbestand met bepaalde eigenschappen van klanten. Onder deze eigenschappen bestaat ook een '**Spending Score**'. Deze score wordt toegekend aan klanten op basis van hun koopgedrag."
      ],
      "metadata": {
        "id": "V2joO1suwN0u"
      }
    },
    {
      "cell_type": "code",
      "source": [
        "csv_url = 'https://raw.githubusercontent.com/mjbarents-bfa/machine-learning-example/main/Customers.csv'\n",
        "df = pd.read_csv(csv_url)\n",
        "df"
      ],
      "metadata": {
        "id": "WA7dOzD5_6Jf"
      },
      "execution_count": null,
      "outputs": []
    },
    {
      "cell_type": "markdown",
      "source": [
        "### **Stap 3**\n",
        "We hebben geluk, de data was van tevoren al goed gestructureerd waardoor we de data zonder problemen meteen al in konden laden, en meteen al een mooie tabel zien. Betekent dit dan dat al onze data ook correct is?\n",
        "\n",
        "Dat valt nog te bezien...\n",
        "\n",
        "Laten we bijvoorbeeld even kijken of er klanten tussen zitten die al voor hun 10e aan het werk waren:"
      ],
      "metadata": {
        "id": "ptg1z6lSxAIw"
      }
    },
    {
      "cell_type": "code",
      "source": [
        "filtered_df = df[(df['Age'] - df['Work_Experience']) < 10]\n",
        "filtered_df"
      ],
      "metadata": {
        "id": "QEUxyGrgFdAc"
      },
      "execution_count": null,
      "outputs": []
    },
    {
      "cell_type": "markdown",
      "source": [
        "###**Stap 4**\n",
        "Dokter of artiest worden voor je 10e levensjaar? Dat is knap, misschien wel iets te knap. Laten we voor de zekerheid klanten die zogenaamd voor hun 18e al werk hadden, eruit filteren."
      ],
      "metadata": {
        "id": "RmhIPARKy8rT"
      }
    },
    {
      "cell_type": "code",
      "source": [
        "df = df[(df['Age'] - df['Work_Experience']) < 18]"
      ],
      "metadata": {
        "id": "KUuiQypLzttH"
      },
      "execution_count": null,
      "outputs": []
    },
    {
      "cell_type": "markdown",
      "source": [
        "### **Stap 5**\n",
        "Wellicht zijn er nog meer 'incorrecte' klantengegevens, maar voor nu laten we het hierbij. Laten we beginnen met het trainen van ons algoritme, in het vakje hieronder trainen we de **Random Forrest Classifier** op onze klantgegevens."
      ],
      "metadata": {
        "id": "hXbFhPb20AfF"
      }
    },
    {
      "cell_type": "code",
      "source": [
        "# Load the DataFrame\n",
        "train_df = df.copy()\n",
        "\n",
        "# Splitting the data into features (X) and target (y)\n",
        "X = train_df.drop(columns=['Spending_Score', 'ID'])  # Drop 'ID' as it's not useful for prediction\n",
        "y = train_df['Spending_Score']\n",
        "\n",
        "# Initialize the Random Forest classifier\n",
        "rf_classifier = RandomForestClassifier(n_estimators=100, random_state=26)\n",
        "\n",
        "# Train the model\n",
        "rf_classifier.fit(X, y)"
      ],
      "metadata": {
        "id": "th1qCPPANW_K"
      },
      "execution_count": null,
      "outputs": []
    },
    {
      "cell_type": "markdown",
      "source": [
        "### **Stap 6**\n",
        "Oeps, daar ging iets fout. Het algoritme werkt enkel met getallen, maar in het klantenbestand staat ook tekst zoals *'Male', 'Female', 'Other'*. Voordat we ons **Random Forrest Classifier** model kunnen trainen, zullen we tekst dus eerst om moeten zetten naar getallen. Laten we dat doen:"
      ],
      "metadata": {
        "id": "f_4SCCEk00t-"
      }
    },
    {
      "cell_type": "code",
      "source": [
        "def label_encoder(df, is_train = True):\n",
        "    gender_map = {\"Female\": 0, \"Male\": 1, \"Other\": 2}\n",
        "    married_map = {\"No\": 0, \"Yes\": 1}\n",
        "    graduated_map = {\"No\": 0, \"Yes\": 1}\n",
        "    profession_map = {\n",
        "        \"Artist\": 0,\n",
        "        \"Healthcare\": 1,\n",
        "        \"Engineer\": 2,\n",
        "        \"Doctor\": 3,\n",
        "        \"Lawyer\": 4,\n",
        "        \"Entertainment\": 5,\n",
        "        \"Executive\": 6,\n",
        "        \"Homemaker\": 7,\n",
        "        \"Marketing\": 8\n",
        "    }\n",
        "    spending_score_map = {\"Low\": 0, \"Average\": 1, \"High\": 2}\n",
        "\n",
        "    # Apply label encoding to the dataframe\n",
        "    df['Gender'] = df['Gender'].map(gender_map)\n",
        "    df['Married'] = df['Married'].map(married_map)\n",
        "    df['Graduated'] = df['Graduated'].map(graduated_map)\n",
        "    df['Profession'] = df['Profession'].map(profession_map)\n",
        "    if is_train == True:\n",
        "      df['Spending_Score'] = df['Spending_Score'].map(spending_score_map)\n",
        "    return df\n",
        "\n",
        "df = label_encoder(df)"
      ],
      "metadata": {
        "id": "gzzfLfdEPrhJ"
      },
      "execution_count": null,
      "outputs": []
    },
    {
      "cell_type": "markdown",
      "source": [
        "### **Stap 7**\n",
        "Top! Nu dat gedaan is gaan we opnieuw proberen het model te trainen:"
      ],
      "metadata": {
        "id": "W-erWYl21lf2"
      }
    },
    {
      "cell_type": "code",
      "source": [
        "# Load the DataFrame\n",
        "train_df = df.copy()\n",
        "\n",
        "# Splitting the data into features (X) and target (y)\n",
        "X = train_df.drop(columns=['Spending_Score', 'ID'])  # Drop 'ID' as it's not useful for prediction\n",
        "y = train_df['Spending_Score']\n",
        "\n",
        "# Initialize the Random Forest classifier\n",
        "rf_classifier = RandomForestClassifier(n_estimators=100, random_state=26)\n",
        "\n",
        "# Train the model\n",
        "rf_classifier.fit(X, y)"
      ],
      "metadata": {
        "id": "uwc01CKTSNh0"
      },
      "execution_count": null,
      "outputs": []
    },
    {
      "cell_type": "markdown",
      "source": [
        "### **Stap 8**\n",
        "Onee, er gaat nogsteeds iets fout. In het klantenbestand zitten klanten die bepaalde waarden missen. Zo gaat dat nou eenmaal met 'echte ruwe data', daar zitten soms fouten in. Deze missende waarden worden gelezen als 'NaN' (*Not a Number*). Ons algoritme weet niet hoe het hiermee om moet gaan, dus geeft het een foutmelding.\n",
        "\n",
        "Er zijn meerdere 'slimme' manieren om hier mee om te gaan, maar laten we deze gevallen er voor nu gewoon uit filteren:"
      ],
      "metadata": {
        "id": "39Rku8nL1xNZ"
      }
    },
    {
      "cell_type": "code",
      "source": [
        "def dropNaN(df):\n",
        "    for index, row in df.iterrows():\n",
        "        if row.isnull().any():\n",
        "            df.drop(index, inplace=True)\n",
        "    return df\n",
        "\n",
        "df = dropNaN(df)"
      ],
      "metadata": {
        "id": "QnJsMVOWSpY1"
      },
      "execution_count": null,
      "outputs": []
    },
    {
      "cell_type": "markdown",
      "source": [
        "### **Stap 9**\n",
        "Drie maal is scheepsrecht, laten we het nog een keer proberen:"
      ],
      "metadata": {
        "id": "NEIfhjdJ3EEQ"
      }
    },
    {
      "cell_type": "code",
      "source": [
        "def predict(new_instance):\n",
        "  new_instance = label_encoder(new_instance, False)\n",
        "  prediction = rf_classifier.predict(new_instance)\n",
        "  predicted_spending_scores = [{0: \"Low\", 1: \"Average\", 2: \"High\"}[pred] for pred in prediction]\n",
        "  return predicted_spending_scores\n",
        "\n",
        "# Load the DataFrame\n",
        "train_df = df.copy()\n",
        "\n",
        "# Splitting the data into features (X) and target (y)\n",
        "X = train_df.drop(columns=['Spending_Score', 'ID'])  # Drop 'ID' as it's not useful for prediction\n",
        "y = train_df['Spending_Score']\n",
        "\n",
        "# Initialize the Random Forest classifier\n",
        "rf_classifier = RandomForestClassifier(n_estimators=100, random_state=26)\n",
        "\n",
        "# Train the model\n",
        "rf_classifier.fit(X, y)"
      ],
      "metadata": {
        "id": "xchfvWvgSsJG"
      },
      "execution_count": null,
      "outputs": []
    },
    {
      "cell_type": "markdown",
      "source": [
        "### **Stap 10**\n",
        "Gefeliciteerd, het is gelukt! We hebben nu succesvol een **Random Forest Classifier** getrained op ons klantenbestand.\n",
        "\n",
        "Nu kunnen we het model gebruiken om voor nieuwe klanten te voorspellen wat hun **spending score** zal gaan zijn. Op basis hiervan kunnen we in de toekomst specifieke klanten beter targetten.\n",
        "\n",
        "Benieuwd naar de spending score die het model voorspelt voor jou, je collega of een andere denkbeeldige klant? Pas de code hieronder aan om het resultaat van ons model te zien!"
      ],
      "metadata": {
        "id": "kHmvfiL43ac_"
      }
    },
    {
      "cell_type": "code",
      "source": [
        "nieuwe_klant = pd.DataFrame({\n",
        "    \"Gender\": [\"Male\"], # Male/Female/Other\n",
        "    \"Married\": [\"Yes\"], # Yes/No\n",
        "    \"Age\": [60], # Any number\n",
        "    \"Graduated\": [\"Yes\"], # Yes/No\n",
        "    \"Profession\": [\"Engineer\"], # Artist/Healthcare/Engineer/Doctor/Lawyer/Executive/Homemaker/Marketing\n",
        "    \"Work_Experience\": [10], # Any number\n",
        "    \"Family_Size\": [2] # Any number\n",
        "})\n",
        "\n",
        "print(\"Het model voorspelt de volgende spending score:\", predict(nieuwe_klant))"
      ],
      "metadata": {
        "id": "9fDCieAzf8_0"
      },
      "execution_count": null,
      "outputs": []
    }
  ]
}